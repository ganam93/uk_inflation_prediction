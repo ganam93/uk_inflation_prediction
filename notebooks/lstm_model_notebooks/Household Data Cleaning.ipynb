{
 "cells": [
  {
   "cell_type": "markdown",
   "id": "4ed2772e-67ee-41f3-973b-9df405cdbd48",
   "metadata": {},
   "source": [
    "### Importing Required Libraries"
   ]
  },
  {
   "cell_type": "code",
   "execution_count": 2,
   "id": "4581b955-3e14-4ef2-892e-7d6412616be1",
   "metadata": {},
   "outputs": [],
   "source": [
    "from numpy import array\n",
    "import pandas as pd\n",
    "import numpy as np\n",
    "from datetime import datetime\n",
    "from numpy import asarray\n",
    "import random\n",
    "import csv\n",
    "from dateutil.relativedelta import relativedelta"
   ]
  },
  {
   "cell_type": "markdown",
   "id": "4fd590c4-abde-47a1-b2f5-d0d3657b672c",
   "metadata": {},
   "source": [
    "##### Reading household historical data from multiple files and cleaning and formatting the data"
   ]
  },
  {
   "cell_type": "code",
   "execution_count": 7,
   "id": "c4b0fd07-5b6d-44c8-bc56-4e7ed0ae2a03",
   "metadata": {},
   "outputs": [
    {
     "data": {
      "text/html": [
       "<div>\n",
       "<style scoped>\n",
       "    .dataframe tbody tr th:only-of-type {\n",
       "        vertical-align: middle;\n",
       "    }\n",
       "\n",
       "    .dataframe tbody tr th {\n",
       "        vertical-align: top;\n",
       "    }\n",
       "\n",
       "    .dataframe thead th {\n",
       "        text-align: right;\n",
       "    }\n",
       "</style>\n",
       "<table border=\"1\" class=\"dataframe\">\n",
       "  <thead>\n",
       "    <tr style=\"text-align: right;\">\n",
       "      <th></th>\n",
       "      <th>Dates</th>\n",
       "      <th>Food and non-alcoholic beverages</th>\n",
       "      <th>Alcohol and tobacco</th>\n",
       "      <th>Housing and household services</th>\n",
       "      <th>Transport</th>\n",
       "      <th>Other</th>\n",
       "    </tr>\n",
       "  </thead>\n",
       "  <tbody>\n",
       "    <tr>\n",
       "      <th>0</th>\n",
       "      <td>1950-01-01</td>\n",
       "      <td>3.84</td>\n",
       "      <td>-0.26</td>\n",
       "      <td>0.69</td>\n",
       "      <td>0.09</td>\n",
       "      <td>-0.06</td>\n",
       "    </tr>\n",
       "    <tr>\n",
       "      <th>1</th>\n",
       "      <td>1950-02-01</td>\n",
       "      <td>3.80</td>\n",
       "      <td>-0.26</td>\n",
       "      <td>0.69</td>\n",
       "      <td>0.09</td>\n",
       "      <td>-0.01</td>\n",
       "    </tr>\n",
       "    <tr>\n",
       "      <th>2</th>\n",
       "      <td>1950-03-01</td>\n",
       "      <td>4.21</td>\n",
       "      <td>-0.26</td>\n",
       "      <td>0.75</td>\n",
       "      <td>0.09</td>\n",
       "      <td>0.02</td>\n",
       "    </tr>\n",
       "    <tr>\n",
       "      <th>3</th>\n",
       "      <td>1950-04-01</td>\n",
       "      <td>4.26</td>\n",
       "      <td>0.03</td>\n",
       "      <td>0.78</td>\n",
       "      <td>0.09</td>\n",
       "      <td>0.28</td>\n",
       "    </tr>\n",
       "    <tr>\n",
       "      <th>4</th>\n",
       "      <td>1950-05-01</td>\n",
       "      <td>3.08</td>\n",
       "      <td>-0.30</td>\n",
       "      <td>0.78</td>\n",
       "      <td>0.13</td>\n",
       "      <td>-0.04</td>\n",
       "    </tr>\n",
       "  </tbody>\n",
       "</table>\n",
       "</div>"
      ],
      "text/plain": [
       "        Dates  Food and non-alcoholic beverages  Alcohol and tobacco  \\\n",
       "0  1950-01-01                              3.84                -0.26   \n",
       "1  1950-02-01                              3.80                -0.26   \n",
       "2  1950-03-01                              4.21                -0.26   \n",
       "3  1950-04-01                              4.26                 0.03   \n",
       "4  1950-05-01                              3.08                -0.30   \n",
       "\n",
       "   Housing and household services  Transport  Other  \n",
       "0                            0.69       0.09  -0.06  \n",
       "1                            0.69       0.09  -0.01  \n",
       "2                            0.75       0.09   0.02  \n",
       "3                            0.78       0.09   0.28  \n",
       "4                            0.78       0.13  -0.04  "
      ]
     },
     "execution_count": 7,
     "metadata": {},
     "output_type": "execute_result"
    }
   ],
   "source": [
    "# Reading Household data from CSV file\n",
    "cpi_household_1950_1988 = pd.read_csv('../input_data/cpi_household_1950_1988.csv')\n",
    "cpi_household_1989_2022 = pd.read_csv('../input_data/cpi_household_1989_2022.csv')\n",
    "\n",
    "#Concatinaing  both the dataframes\n",
    "household_data = pd.concat([cpi_household_1950_1988, cpi_household_1989_2022], axis=0)\n",
    "# Converting the 'Dates' column in the cpi_data DataFrame to datetime format\n",
    "household_data['Dates'] = pd.to_datetime(household_data['Dates']).dt.strftime('%Y-%m-%d')\n",
    "household_data.to_excel('../output_data/Household_Data.xlsx', index=False)\n",
    "household_data.head()"
   ]
  },
  {
   "cell_type": "code",
   "execution_count": null,
   "id": "862003ce-66f4-4b78-99df-7c394158bb57",
   "metadata": {},
   "outputs": [],
   "source": []
  }
 ],
 "metadata": {
  "kernelspec": {
   "display_name": "Python 3 (ipykernel)",
   "language": "python",
   "name": "python3"
  },
  "language_info": {
   "codemirror_mode": {
    "name": "ipython",
    "version": 3
   },
   "file_extension": ".py",
   "mimetype": "text/x-python",
   "name": "python",
   "nbconvert_exporter": "python",
   "pygments_lexer": "ipython3",
   "version": "3.9.13"
  }
 },
 "nbformat": 4,
 "nbformat_minor": 5
}
